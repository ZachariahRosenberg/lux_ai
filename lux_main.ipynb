{
 "cells": [
  {
   "cell_type": "markdown",
   "metadata": {},
   "source": [
    "# LUX AI Kaggle Competition\n",
    "\n",
    "| . | Competition Links |\n",
    "| -- | -- |\n",
    "|Competition Link| https://www.kaggle.com/c/lux-ai-2021/overview/getting-started |\n",
    "|Game Overview and Rules| https://www.lux-ai.org/specs-2021|\n",
    "|Documentation| https://github.com/Lux-AI-Challenge/Lux-Design-2021/tree/master/kits |\n",
    "|Visualizer| https://2021vis.lux-ai.org/ |"
   ]
  },
  {
   "cell_type": "markdown",
   "metadata": {
    "heading_collapsed": true
   },
   "source": [
    "## LUX API"
   ]
  },
  {
   "cell_type": "markdown",
   "metadata": {
    "hidden": true
   },
   "source": [
    "|Obj|Property|Type|Description|\n",
    "|--|--|--|--|\n",
    "|**game_state**||\n",
    "|.|map|GameMap|holds info about physical map|\n",
    "|.|players|list(player)|list of players|\n",
    "||\n",
    "|**GAMEMAP**||\n",
    "|.|height|int|height of map|\n",
    "|.|width|int|width of map|\n",
    "|.|map|[[Cell]]|2d grid of CELL, e.g. `map[y][x] = Cell @ coord (x, y)`|\n",
    "|.|get_cell_by_pos|method|`get_cell_by_pos(pos: Position) -> Cell`|\n",
    "|.|get_cell|method|`get_cell(x: int, y: int) -> Cell`|\n",
    "||\n",
    "|**Position**||\n",
    "|.|x|int|x coord|\n",
    "|.|y|int|y coord|\n",
    "|.|is_adjacent|method|`is_adjacent(pos: Position) -> bool` - returns true if this Position is adjacent to pos|\n",
    "|.|equals|method|`equals(pos: Position) -> bool`|\n",
    "|.|translate|method|`translate(direction: DIRECTIONS, units: int) -> Position` - returns the Position equal to going in a `direction` `units` number of times from this Position|\n",
    "|.|distance_to|method|`distance_to(pos: Position) -> float` - manhattan distance|\n",
    "|.|direction_to|method|`direction_to(target_pos: Position) -> DIRECTIONS` - returns the direction that would move you closest to target_pos from this Position if you took a single step. In particular, will return DIRECTIONS.CENTER if this Position is equal to the target_pos. Note that this does not check for potential collisions with other units but serves as a basic pathfinding method|\n",
    "||\n",
    "|**Cell**||\n",
    "|.|pos|Position||\n",
    "|.|resource|Resource|contains details of a Resource at this Cell or None. You should always use the function has_resource to check if this Cell has a Resource or not|\n",
    "|.|road|float|the amount of Cooldown subtracted from a Unit's Cooldown whenever they perform an action on this tile. If there are roads, the more developed the road, the higher this Cooldown rate value is. Note that a Unit will always gain a base Cooldown amount whenever any action is performed.|\n",
    "|.|citytile|CityTile|the citytile that is on this Cell or None.|\n",
    "|.|has_resource|method|`has_resource() -> bool` returns true if this Cell has a non-depleted Resource|\n",
    "||\n",
    "|**City**||\n",
    "|.|cityid|string|the id of this City. Each City id in the game is unique and will never be reused by new cities|\n",
    "|.|team|int|the id of the team the city belongs to|\n",
    "|.|fuel|float|the fuel stored in this City. This fuel is consumed by all CityTiles in this City during each turn of night.|\n",
    "|.|citytiles|[CityTile]|a list of CityTile objects that form this one City collectively. A City is defined as all CityTiles that are connected via adjacent CityTiles.|\n",
    "|.|get_light_upkeep|method|`get_light_upkeep() -> float` - returns the light upkeep per turn of the City. Fuel in the City is subtracted by the light upkeep each turn of night.|\n",
    "||\n",
    "|**CityTile**||\n",
    "|.|cityid|string||\n",
    "|.|team|int|the id of the team|\n",
    "|.|pos|Position||\n",
    "|.|cooldown|float||\n",
    "|.|can_act|method|whether this City can perform an action this turn, which is when the Cooldown is less than 1|\n",
    "|.|research|method|returns the research action|\n",
    "|.|build_worker|method|returns the build worker action. When applied and requirements are met, a worker will be built at the City.|\n",
    "|.|build_cart|method|returns the build cart action. When applied and requirements are met, a cart will be built at the City.|\n",
    "||\n",
    "|**Unit**||\n",
    "|.|id|string||\n",
    "|.|team|int||\n",
    "|.|pos|Position||\n",
    "|.|cooldown|float||\n",
    "|.|cargo.wood|int||\n",
    "|.|cargo.coal|int||\n",
    "|.|cargo.uranium|int||\n",
    "|.|get_cargo_space_left|method|`get_cargo_space_left(): int` - returns the amount of space left in the cargo of this Unit. Note that any Resource takes up the same space, e.g. 70 wood takes up as much space as 70 uranium, but 70 uranium would produce much more fuel than wood when deposited at a City|\n",
    "|.|can_build|method|`can_build(game_map: GameMap): bool` -  returns true if the Unit can build a City on the tile it is on now. False otherwise. Checks that the tile does not have a Resource over it still and the Unit has a Cooldown of less than 1|\n",
    "|.|can_act|method|`can_act(): bool`  - returns true if the Unit can perform an action. False otherwise. Essentially checks whether the Cooldown of the Unit is less than 1|\n",
    "|.|move|method|`move(dir): str` - returns the move action. When applied, Unit will move in the specified direction by one Unit, provided there are no other units in the way or opposition cities. (Units can stack on top of each other however when over a friendly City)|\n",
    "|.|transfer|method|`transfer(dest_id, resourceType, amount): str` - returns the transfer action. Will transfer from this Unit the selected Resource type by the desired amount to the Unit with id dest_id given that both units are adjacent at the start of the turn. (This means that a destination Unit can receive a transfer of resources by another Unit but also move away from that Unit)|\n",
    "|.|build_city|method|`build_city(): str` - returns the build City action. When applied, Unit will try to build a City right under itself provided it is an empty tile with no City or resources and the worker is carrying 100 units of resources. All resources are consumed if the city is succesfully built.|\n",
    "|.|pillage|method|`pillage(): str` - returns the pillage action. When applied, Unit will pillage the tile it is currently on top of and remove 0.5 of the road level.|\n",
    "||\n",
    "|**Player**||\n",
    "|.|team|int||\n",
    "|.|research_points|int||\n",
    "|.|units|[Unit]|list of all units owned by player|\n",
    "|.|cities|{city_id: City}|a dictionary / map mapping City id to each separate City owned by this player's team. To get the individual CityTiles, you will need to access the citytiles property of the City.|\n",
    "|.|researched_coal|method|`researched_coal() - bool`|\n",
    "|.|researched_uranium|method|`researched_uranium() - bool`|\n",
    "\n"
   ]
  },
  {
   "cell_type": "markdown",
   "metadata": {
    "heading_collapsed": true
   },
   "source": [
    "## Constants"
   ]
  },
  {
   "cell_type": "markdown",
   "metadata": {
    "hidden": true
   },
   "source": [
    "|.|_|_|\n",
    "|---|---|---|\n",
    "|INPUT_CONSTANTS|\n",
    "|.|RESEARCH_POINTS|rp|\n",
    "|.|RESOURCES|r|\n",
    "|.|UNITS|u|\n",
    "|.|CITY|c|\n",
    "|.|CITY_TILES|ct|\n",
    "|.|ROADS|ccd|\n",
    "|.|DONE|D_DONE|\n",
    "|DIRECTIONS|\n",
    "|.|NORTH|n|\n",
    "|.|WEST|w|\n",
    "|.|SOUTH|s|\n",
    "|.|EAST|e|\n",
    "|.|CENTER|c|\n",
    "|UNIT_TYPES|\n",
    "|.|WORKER|0|\n",
    "|.|CART|1|\n",
    "|RESOURCE_TYPES|\n",
    "|.|WOOD|wood|\n",
    "|.|URANIUM|uranium|\n",
    "|.|COAL|coal|\n",
    "|PARAMETERS|\n",
    "|.|DAY_LENGTH|30|\n",
    "|.|NIGHT_LENGTH|10|\n",
    "|.|MAX_DAYS|360|\n",
    "|.|LIGHT_UPKEEP.CITY|30|\n",
    "|.|LIGHT_UPKEEP.WORKER|4|\n",
    "|.|LIGHT_UPKEEP.CART|10|\n",
    "|.|WOOD_GROWTH_RATE|1.01|\n",
    "|.|MAX_WOOD_AMOUNT|400|\n",
    "|.|CITY_BUILD_COST|100|\n",
    "|.|CITY_ADJACENCY_BONUS|5|\n",
    "|.|RESOURCE_CAPACITY.WORKER|100|\n",
    "|.|RESOURCE_CAPACITY.CART|2000|\n",
    "|.|WORKER_COLLECTION_RATE.WOOD|20|\n",
    "|.|WORKER_COLLECTION_RATE.COAL|10|\n",
    "|.|WORKER_COLLECTION_RATE.URANIUM|4|\n",
    "|.|RESOURCE_TO_FUEL_RATE.WOOD|1|\n",
    "|.|RESOURCE_TO_FUEL_RATE.COAL|5|\n",
    "|.|RESOURCE_TO_FUEL_RATE.URANIUM|20|\n",
    "|.|RESEARCH_REQUIREMENTS.COAL|50|\n",
    "|.|RESEARCH_REQUIREMENTS.URANIUM|200|\n",
    "|.|CITY_ACTION_COOLDOWN|10|\n",
    "|.|UNIT_ACTION_COOLDOWN.CART|3|\n",
    "|.|UNIT_ACTION_COOLDOWN.WORKER|2|\n",
    "|.|MAX_ROAD|6|\n",
    "|.|MIN_ROAD|0|\n",
    "|.|CART_ROAD_DEVELOPMENT_RATE|0.5|\n",
    "|.|PILLAGE_RATE|0.5|"
   ]
  },
  {
   "cell_type": "markdown",
   "metadata": {
    "heading_collapsed": true
   },
   "source": [
    "## Other notes:"
   ]
  },
  {
   "cell_type": "markdown",
   "metadata": {
    "hidden": true
   },
   "source": [
    "> \"Wood in particular can regrow. Each turn, every wood tile's wood amount increases by 1% of its current wood amount rounded up. Wood tiles that have been **depleted will not regrow**. Only wood tiles with less than 400 wood will regrow.\"\n",
    "\n",
    "> At the end of each turn, Workers automatically receive resources from all adjacent (North, East, South, West, or Center) resource tiles they can collect resources from"
   ]
  },
  {
   "cell_type": "markdown",
   "metadata": {
    "heading_collapsed": true
   },
   "source": [
    "# Setup"
   ]
  },
  {
   "cell_type": "code",
   "execution_count": 1,
   "metadata": {
    "ExecuteTime": {
     "end_time": "2021-08-22T17:41:17.559839Z",
     "start_time": "2021-08-22T17:41:17.310994Z"
    },
    "hidden": true
   },
   "outputs": [
    {
     "name": "stdout",
     "output_type": "stream",
     "text": [
      "Loading environment football failed: No module named 'gfootball'\n"
     ]
    }
   ],
   "source": [
    "import math, sys\n",
    "import numpy as np\n",
    "from kaggle_environments import make\n",
    "from lux import annotate\n",
    "from lux.game import Game\n",
    "from lux.game_map import Cell, RESOURCE_TYPES, Position\n",
    "from lux.constants import Constants\n",
    "from lux.game_constants import GAME_CONSTANTS"
   ]
  },
  {
   "cell_type": "code",
   "execution_count": 2,
   "metadata": {
    "ExecuteTime": {
     "end_time": "2021-08-22T17:41:17.806123Z",
     "start_time": "2021-08-22T17:41:17.561944Z"
    },
    "hidden": true
   },
   "outputs": [],
   "source": [
    "seed = 711\n",
    "# create the environment. You can also specify configurations for seed and loglevel as shown below. If not specified, a random seed is chosen. \n",
    "# loglevel default is 0. \n",
    "# 1 is for errors, 2 is for match warnings such as units colliding, invalid commands (recommended)\n",
    "# 3 for info level, and 4 for everything (not recommended)\n",
    "# set annotations True so annotation commands are drawn on visualizer\n",
    "# set debug to True so print statements get shown\n",
    "env = make(\"lux_ai_2021\", configuration={\"seed\": seed, \"loglevel\": 2, \"annotations\": True}, debug=True)"
   ]
  },
  {
   "cell_type": "markdown",
   "metadata": {},
   "source": [
    "# Agent"
   ]
  },
  {
   "cell_type": "code",
   "execution_count": 19,
   "metadata": {
    "ExecuteTime": {
     "end_time": "2021-08-22T17:55:19.560804Z",
     "start_time": "2021-08-22T17:55:19.550228Z"
    },
    "code_folding": [
     0,
     2
    ]
   },
   "outputs": [],
   "source": [
    "class MyAgent:\n",
    "    \n",
    "    def __init__(self):\n",
    "        pass\n",
    "        \n",
    "    def setup(self, obs, game_state):\n",
    "        '''\n",
    "        Called on first round after game_state has been populated\n",
    "        '''\n",
    "        print(\"Agent booting up!\", file=sys.stderr)\n",
    "        \n",
    "        self.game_state = game_state\n",
    "        self.player = game_state.players[obs.player]\n",
    "        self.opponent = game_state.players[(obs.player + 1) % 2]\n",
    "        self.game_width = game_state.map.width\n",
    "        self.game_height = game_state.map.height\n",
    "        self.actions = []\n",
    "    \n",
    "    def step(self, obs, game_state):\n",
    "        self.game_state = game_state\n",
    "        \n",
    "        print('stepping')\n",
    "\n",
    "        player = self.game_state.players[obs.player]\n",
    "        for unit in player.units:\n",
    "            action = self.unit_act(unit)\n",
    "            if action:\n",
    "                self.actions.append(action)\n",
    "        \n",
    "        actions = self.actions\n",
    "        self.actions = []\n",
    "        return actions\n",
    "     \n",
    "    def unit_act(self, unit):\n",
    "        # TODO, Unit will become its own \n",
    "        \n",
    "        resource_tiles = find_resources(self.game_state)\n",
    "        \n",
    "        action = None\n",
    "         # if the unit is a worker (can mine resources) and can perform an action this turn\n",
    "        if unit.is_worker() and unit.can_act():\n",
    "            # we want to mine only if there is space left in the worker's cargo\n",
    "            if unit.get_cargo_space_left()>0:\n",
    "                closest_resource_tile = find_closest_resources(unit.pos, self.player, resource_tiles)\n",
    "                if closest_resource_tile is not None:\n",
    "                    action = unit.move(unit.pos.direction_to(closest_resource_tile.pos))\n",
    "            else:\n",
    "                # find the closest citytile and move the unit towards it to drop resources to a citytile to fuel the city\n",
    "                closest_city_tile = find_closest_city_tile(unit.pos, self.player)\n",
    "                if closest_city_tile is not None:\n",
    "                    # create a move action to move this unit in the direction of the closest resource tile and add to our actions list\n",
    "                    action = unit.move(unit.pos.direction_to(closest_city_tile.pos))\n",
    "        return action"
   ]
  },
  {
   "cell_type": "code",
   "execution_count": 4,
   "metadata": {
    "ExecuteTime": {
     "end_time": "2021-08-22T17:41:17.821262Z",
     "start_time": "2021-08-22T17:41:17.817821Z"
    },
    "code_folding": [
     0
    ]
   },
   "outputs": [],
   "source": [
    "def find_resources(game_state):\n",
    "#     What crazy syntax is this?\n",
    "    resource_tiles: list[Cell] = []\n",
    "    width,  height = game_state.map_width, game_state.map_height\n",
    "    for y in range(height):\n",
    "        for x in range(width):\n",
    "            cell =game_state.map.get_cell(x,y)\n",
    "            if cell.has_resource():\n",
    "                resource_tiles.append(cell)\n",
    "    return resource_tiles"
   ]
  },
  {
   "cell_type": "code",
   "execution_count": 5,
   "metadata": {
    "ExecuteTime": {
     "end_time": "2021-08-22T17:41:17.827860Z",
     "start_time": "2021-08-22T17:41:17.824149Z"
    },
    "code_folding": [
     0
    ]
   },
   "outputs": [],
   "source": [
    "def find_closest_resources(pos, player, resource_tiles):\n",
    "    closest_dist = math.inf\n",
    "    closest_resource_tile = None\n",
    "    for tile in resource_tiles:\n",
    "        if tile.resource.type == Constants.RESOURCE_TYPES.COAL and not player.researched_coal():\n",
    "            continue\n",
    "        if tile.resource.type == Constants.RESOURCE_TYPES.URANIUM and not player.researched_uranium():\n",
    "            continue\n",
    "        dist = tile.pos.distance_to(pos)\n",
    "        if dist < closest_dist:\n",
    "            closest_dist = dist\n",
    "            closest_resource_tile = tile\n",
    "    return closest_resource_tile        "
   ]
  },
  {
   "cell_type": "code",
   "execution_count": 6,
   "metadata": {
    "ExecuteTime": {
     "end_time": "2021-08-22T17:41:17.832745Z",
     "start_time": "2021-08-22T17:41:17.829329Z"
    },
    "code_folding": [
     0
    ]
   },
   "outputs": [],
   "source": [
    "def find_closest_city_tile(pos, player):\n",
    "    closest_city_tile = None\n",
    "    if len(player.cities) > 0:\n",
    "        closest_dist = math.inf\n",
    "        # the cities are stored as a dictionary mapping city id to the city object, which has a citytiles field that\n",
    "        # contains the information of all citytiles in that city\n",
    "        for k, city in player.cities.items():\n",
    "            for city_tile in city.citytiles:\n",
    "                dist = city_tile.pos.distance_to(pos)\n",
    "                if dist < closest_dist:\n",
    "                    closest_dist = dist\n",
    "                    closest_city_tile = city_tile\n",
    "    return closest_city_tile"
   ]
  },
  {
   "cell_type": "code",
   "execution_count": 20,
   "metadata": {
    "ExecuteTime": {
     "end_time": "2021-08-22T17:55:20.709511Z",
     "start_time": "2021-08-22T17:55:20.704154Z"
    },
    "code_folding": [
     7,
     13
    ]
   },
   "outputs": [],
   "source": [
    "game_state = None\n",
    "my_agent = MyAgent()\n",
    "\n",
    "def agent(obs, configuration):\n",
    "    global game_state\n",
    "\n",
    "    ### Do not edit ###\n",
    "    if obs[\"step\"] == 0:\n",
    "        game_state = Game()\n",
    "        game_state._initialize(obs[\"updates\"])\n",
    "        game_state._update(obs[\"updates\"][2:])\n",
    "        game_state.id = obs.player\n",
    "        my_agent.setup(obs, game_state)\n",
    "    else:\n",
    "        game_state._update(obs[\"updates\"])\n",
    "\n",
    "    ### AI Code goes down here! ### \n",
    "    agent_actions = my_agent.step(obs, game_state)\n",
    "    return agent_actions"
   ]
  },
  {
   "cell_type": "markdown",
   "metadata": {
    "heading_collapsed": true
   },
   "source": [
    "## Exploration"
   ]
  },
  {
   "cell_type": "code",
   "execution_count": 8,
   "metadata": {
    "ExecuteTime": {
     "end_time": "2021-08-22T17:41:17.968709Z",
     "start_time": "2021-08-22T17:41:17.842038Z"
    },
    "hidden": true
   },
   "outputs": [
    {
     "ename": "AttributeError",
     "evalue": "'NoneType' object has no attribute 'map_width'",
     "output_type": "error",
     "traceback": [
      "\u001b[0;31m---------------------------------------------------------------------------\u001b[0m",
      "\u001b[0;31mAttributeError\u001b[0m                            Traceback (most recent call last)",
      "\u001b[0;32m<ipython-input-8-a07916614b30>\u001b[0m in \u001b[0;36m<module>\u001b[0;34m\u001b[0m\n\u001b[0;32m----> 1\u001b[0;31m \u001b[0mresource_tiles\u001b[0m \u001b[0;34m=\u001b[0m \u001b[0mfind_resources\u001b[0m\u001b[0;34m(\u001b[0m\u001b[0mgame_state\u001b[0m\u001b[0;34m)\u001b[0m\u001b[0;34m\u001b[0m\u001b[0;34m\u001b[0m\u001b[0m\n\u001b[0m\u001b[1;32m      2\u001b[0m \u001b[0mcell\u001b[0m \u001b[0;34m=\u001b[0m \u001b[0mresource_tiles\u001b[0m\u001b[0;34m[\u001b[0m\u001b[0;36m0\u001b[0m\u001b[0;34m]\u001b[0m\u001b[0;34m\u001b[0m\u001b[0;34m\u001b[0m\u001b[0m\n\u001b[1;32m      3\u001b[0m \u001b[0mprint\u001b[0m\u001b[0;34m(\u001b[0m\u001b[0;34m\"Cell at\"\u001b[0m\u001b[0;34m,\u001b[0m \u001b[0mcell\u001b[0m\u001b[0;34m.\u001b[0m\u001b[0mpos\u001b[0m\u001b[0;34m,\u001b[0m \u001b[0;34m\"has\"\u001b[0m\u001b[0;34m)\u001b[0m\u001b[0;34m\u001b[0m\u001b[0;34m\u001b[0m\u001b[0m\n\u001b[1;32m      4\u001b[0m \u001b[0mprint\u001b[0m\u001b[0;34m(\u001b[0m\u001b[0mcell\u001b[0m\u001b[0;34m.\u001b[0m\u001b[0mresource\u001b[0m\u001b[0;34m.\u001b[0m\u001b[0mtype\u001b[0m\u001b[0;34m,\u001b[0m \u001b[0mcell\u001b[0m\u001b[0;34m.\u001b[0m\u001b[0mresource\u001b[0m\u001b[0;34m.\u001b[0m\u001b[0mamount\u001b[0m\u001b[0;34m)\u001b[0m\u001b[0;34m\u001b[0m\u001b[0;34m\u001b[0m\u001b[0m\n",
      "\u001b[0;32m<ipython-input-4-e3aaa06e481d>\u001b[0m in \u001b[0;36mfind_resources\u001b[0;34m(game_state)\u001b[0m\n\u001b[1;32m      2\u001b[0m \u001b[0;31m#     What crazy syntax is this?\u001b[0m\u001b[0;34m\u001b[0m\u001b[0;34m\u001b[0m\u001b[0;34m\u001b[0m\u001b[0m\n\u001b[1;32m      3\u001b[0m     \u001b[0mresource_tiles\u001b[0m\u001b[0;34m:\u001b[0m \u001b[0mlist\u001b[0m\u001b[0;34m[\u001b[0m\u001b[0mCell\u001b[0m\u001b[0;34m]\u001b[0m \u001b[0;34m=\u001b[0m \u001b[0;34m[\u001b[0m\u001b[0;34m]\u001b[0m\u001b[0;34m\u001b[0m\u001b[0;34m\u001b[0m\u001b[0m\n\u001b[0;32m----> 4\u001b[0;31m     \u001b[0mwidth\u001b[0m\u001b[0;34m,\u001b[0m  \u001b[0mheight\u001b[0m \u001b[0;34m=\u001b[0m \u001b[0mgame_state\u001b[0m\u001b[0;34m.\u001b[0m\u001b[0mmap_width\u001b[0m\u001b[0;34m,\u001b[0m \u001b[0mgame_state\u001b[0m\u001b[0;34m.\u001b[0m\u001b[0mmap_height\u001b[0m\u001b[0;34m\u001b[0m\u001b[0;34m\u001b[0m\u001b[0m\n\u001b[0m\u001b[1;32m      5\u001b[0m     \u001b[0;32mfor\u001b[0m \u001b[0my\u001b[0m \u001b[0;32min\u001b[0m \u001b[0mrange\u001b[0m\u001b[0;34m(\u001b[0m\u001b[0mheight\u001b[0m\u001b[0;34m)\u001b[0m\u001b[0;34m:\u001b[0m\u001b[0;34m\u001b[0m\u001b[0;34m\u001b[0m\u001b[0m\n\u001b[1;32m      6\u001b[0m         \u001b[0;32mfor\u001b[0m \u001b[0mx\u001b[0m \u001b[0;32min\u001b[0m \u001b[0mrange\u001b[0m\u001b[0;34m(\u001b[0m\u001b[0mwidth\u001b[0m\u001b[0;34m)\u001b[0m\u001b[0;34m:\u001b[0m\u001b[0;34m\u001b[0m\u001b[0;34m\u001b[0m\u001b[0m\n",
      "\u001b[0;31mAttributeError\u001b[0m: 'NoneType' object has no attribute 'map_width'"
     ]
    }
   ],
   "source": [
    "resource_tiles = find_resources(game_state)\n",
    "cell = resource_tiles[0]\n",
    "print(\"Cell at\", cell.pos, \"has\")\n",
    "print(cell.resource.type, cell.resource.amount)"
   ]
  },
  {
   "cell_type": "code",
   "execution_count": null,
   "metadata": {
    "ExecuteTime": {
     "end_time": "2021-08-22T17:41:17.975106Z",
     "start_time": "2021-08-22T17:41:17.331Z"
    },
    "hidden": true
   },
   "outputs": [],
   "source": [
    "cell = find_closest_resources(Position(1,1), game_state.players[0], resource_tiles)\n",
    "print(\"Closest resource at\", cell.pos, \"has\")\n",
    "print(cell.resource.type, cell.resource.amount)"
   ]
  },
  {
   "cell_type": "markdown",
   "metadata": {},
   "source": [
    "# Environtment"
   ]
  },
  {
   "cell_type": "code",
   "execution_count": 21,
   "metadata": {
    "ExecuteTime": {
     "end_time": "2021-08-22T17:55:27.360137Z",
     "start_time": "2021-08-22T17:55:22.728301Z"
    }
   },
   "outputs": [
    {
     "name": "stdout",
     "output_type": "stream",
     "text": [
      "stepping\n",
      "Agent booting up!\n",
      "stepping\n",
      "stepping\n",
      "stepping\n",
      "stepping\n",
      "stepping\n",
      "stepping\n",
      "stepping\n",
      "stepping\n",
      "stepping\n",
      "stepping\n",
      "stepping\n",
      "stepping\n",
      "stepping\n",
      "stepping\n",
      "stepping\n",
      "stepping\n",
      "stepping\n",
      "stepping\n",
      "stepping\n",
      "stepping\n",
      "stepping\n",
      "stepping\n",
      "stepping\n",
      "stepping\n",
      "stepping\n",
      "stepping\n",
      "stepping\n",
      "stepping\n",
      "stepping\n",
      "stepping\n",
      "stepping\n",
      "stepping\n",
      "stepping\n",
      "stepping\n",
      "stepping\n",
      "stepping\n",
      "stepping\n",
      "stepping\n",
      "stepping\n",
      "stepping\n",
      "stepping\n",
      "stepping\n",
      "stepping\n",
      "stepping\n",
      "stepping\n",
      "stepping\n",
      "stepping\n",
      "stepping\n",
      "stepping\n",
      "stepping\n",
      "stepping\n",
      "stepping\n",
      "stepping\n",
      "stepping\n",
      "stepping\n",
      "stepping\n",
      "stepping\n",
      "stepping\n",
      "stepping\n",
      "stepping\n",
      "stepping\n",
      "stepping\n",
      "stepping\n",
      "stepping\n",
      "stepping\n",
      "stepping\n",
      "stepping\n",
      "stepping\n",
      "stepping\n",
      "stepping\n",
      "stepping\n",
      "stepping\n",
      "stepping\n",
      "stepping\n",
      "stepping\n",
      "stepping\n",
      "stepping\n",
      "stepping\n",
      "stepping\n",
      "stepping\n",
      "stepping\n",
      "stepping\n",
      "stepping\n",
      "stepping\n",
      "stepping\n",
      "stepping\n",
      "stepping\n",
      "stepping\n",
      "stepping\n",
      "stepping\n",
      "stepping\n",
      "stepping\n",
      "stepping\n",
      "stepping\n",
      "stepping\n",
      "stepping\n",
      "stepping\n",
      "stepping\n",
      "stepping\n",
      "stepping\n",
      "stepping\n",
      "stepping\n",
      "stepping\n",
      "stepping\n",
      "stepping\n",
      "stepping\n",
      "stepping\n",
      "stepping\n",
      "stepping\n",
      "stepping\n",
      "stepping\n",
      "stepping\n",
      "stepping\n",
      "stepping\n",
      "stepping\n",
      "stepping\n",
      "stepping\n",
      "stepping\n",
      "stepping\n",
      "stepping\n",
      "stepping\n",
      "stepping\n",
      "stepping\n",
      "stepping\n",
      "stepping\n",
      "stepping\n",
      "stepping\n",
      "stepping\n",
      "stepping\n",
      "stepping\n",
      "stepping\n",
      "stepping\n",
      "stepping\n",
      "stepping\n",
      "stepping\n",
      "stepping\n",
      "stepping\n",
      "stepping\n",
      "stepping\n",
      "stepping\n",
      "stepping\n",
      "stepping\n",
      "stepping\n",
      "stepping\n",
      "stepping\n",
      "stepping\n",
      "stepping\n",
      "stepping\n",
      "stepping\n",
      "stepping\n",
      "stepping\n",
      "stepping\n",
      "stepping\n",
      "stepping\n",
      "stepping\n",
      "stepping\n",
      "stepping\n",
      "stepping\n",
      "stepping\n",
      "stepping\n",
      "stepping\n",
      "stepping\n",
      "stepping\n",
      "stepping\n",
      "stepping\n",
      "stepping\n",
      "stepping\n",
      "stepping\n",
      "stepping\n",
      "stepping\n",
      "stepping\n",
      "stepping\n",
      "stepping\n",
      "stepping\n",
      "stepping\n",
      "stepping\n",
      "stepping\n",
      "stepping\n",
      "stepping\n",
      "stepping\n",
      "stepping\n",
      "stepping\n",
      "stepping\n",
      "stepping\n",
      "stepping\n",
      "stepping\n",
      "stepping\n",
      "stepping\n",
      "stepping\n",
      "stepping\n",
      "stepping\n",
      "stepping\n",
      "stepping\n",
      "stepping\n",
      "stepping\n",
      "stepping\n",
      "stepping\n",
      "stepping\n",
      "stepping\n",
      "stepping\n",
      "stepping\n",
      "stepping\n",
      "stepping\n",
      "stepping\n",
      "stepping\n",
      "stepping\n",
      "stepping\n",
      "stepping\n",
      "stepping\n",
      "stepping\n",
      "stepping\n",
      "stepping\n",
      "stepping\n",
      "stepping\n",
      "stepping\n",
      "stepping\n",
      "stepping\n",
      "stepping\n",
      "stepping\n",
      "stepping\n",
      "stepping\n",
      "stepping\n",
      "stepping\n",
      "stepping\n",
      "stepping\n",
      "stepping\n",
      "stepping\n",
      "stepping\n",
      "stepping\n",
      "stepping\n",
      "stepping\n",
      "stepping\n",
      "stepping\n",
      "stepping\n",
      "stepping\n",
      "stepping\n",
      "stepping\n",
      "stepping\n",
      "stepping\n",
      "stepping\n",
      "stepping\n",
      "stepping\n",
      "stepping\n",
      "stepping\n",
      "stepping\n",
      "stepping\n",
      "stepping\n",
      "stepping\n",
      "stepping\n",
      "stepping\n",
      "stepping\n",
      "stepping\n",
      "stepping\n",
      "stepping\n",
      "stepping\n",
      "stepping\n",
      "stepping\n",
      "stepping\n",
      "stepping\n",
      "stepping\n",
      "stepping\n",
      "stepping\n",
      "stepping\n",
      "stepping\n",
      "stepping\n",
      "stepping\n",
      "stepping\n",
      "stepping\n",
      "stepping\n",
      "stepping\n",
      "stepping\n",
      "stepping\n",
      "stepping\n",
      "stepping\n",
      "stepping\n",
      "stepping\n",
      "stepping\n",
      "stepping\n",
      "stepping\n",
      "stepping\n",
      "stepping\n",
      "stepping\n",
      "stepping\n",
      "stepping\n",
      "stepping\n",
      "stepping\n",
      "stepping\n",
      "stepping\n",
      "stepping\n",
      "stepping\n",
      "stepping\n",
      "stepping\n",
      "stepping\n",
      "stepping\n",
      "stepping\n",
      "stepping\n",
      "stepping\n",
      "stepping\n",
      "stepping\n",
      "stepping\n",
      "stepping\n",
      "stepping\n",
      "stepping\n",
      "stepping\n",
      "stepping\n",
      "stepping\n",
      "stepping\n",
      "stepping\n",
      "stepping\n",
      "stepping\n",
      "stepping\n",
      "stepping\n",
      "stepping\n",
      "stepping\n",
      "stepping\n",
      "stepping\n",
      "stepping\n",
      "stepping\n",
      "stepping\n",
      "stepping\n",
      "stepping\n",
      "stepping\n",
      "stepping\n",
      "stepping\n",
      "stepping\n",
      "stepping\n",
      "stepping\n",
      "stepping\n",
      "stepping\n",
      "stepping\n",
      "stepping\n",
      "stepping\n",
      "stepping\n",
      "stepping\n",
      "stepping\n",
      "stepping\n",
      "stepping\n",
      "stepping\n",
      "stepping\n",
      "stepping\n",
      "stepping\n",
      "stepping\n",
      "stepping\n",
      "stepping\n",
      "stepping\n",
      "stepping\n",
      "stepping\n",
      "stepping\n",
      "stepping\n",
      "stepping\n",
      "stepping\n",
      "stepping\n",
      "stepping\n",
      "stepping\n",
      "stepping\n",
      "stepping\n",
      "stepping\n",
      "stepping\n",
      "stepping\n"
     ]
    }
   ],
   "source": [
    "# run a match between two simple agents\n",
    "steps = env.run([agent, \"simple_agent\"])"
   ]
  },
  {
   "cell_type": "code",
   "execution_count": null,
   "metadata": {
    "ExecuteTime": {
     "end_time": "2021-08-22T17:41:17.977718Z",
     "start_time": "2021-08-22T17:41:17.336Z"
    }
   },
   "outputs": [],
   "source": [
    "env.render(mode=\"ipython\", width=1200, height=800)"
   ]
  },
  {
   "cell_type": "code",
   "execution_count": null,
   "metadata": {},
   "outputs": [],
   "source": []
  }
 ],
 "metadata": {
  "kernelspec": {
   "display_name": "Python 3",
   "language": "python",
   "name": "python3"
  },
  "language_info": {
   "codemirror_mode": {
    "name": "ipython",
    "version": 3
   },
   "file_extension": ".py",
   "mimetype": "text/x-python",
   "name": "python",
   "nbconvert_exporter": "python",
   "pygments_lexer": "ipython3",
   "version": "3.6.7"
  },
  "toc": {
   "base_numbering": 1,
   "nav_menu": {},
   "number_sections": true,
   "sideBar": true,
   "skip_h1_title": false,
   "title_cell": "Table of Contents",
   "title_sidebar": "Contents",
   "toc_cell": false,
   "toc_position": {},
   "toc_section_display": true,
   "toc_window_display": false
  },
  "varInspector": {
   "cols": {
    "lenName": 16,
    "lenType": 16,
    "lenVar": 40
   },
   "kernels_config": {
    "python": {
     "delete_cmd_postfix": "",
     "delete_cmd_prefix": "del ",
     "library": "var_list.py",
     "varRefreshCmd": "print(var_dic_list())"
    },
    "r": {
     "delete_cmd_postfix": ") ",
     "delete_cmd_prefix": "rm(",
     "library": "var_list.r",
     "varRefreshCmd": "cat(var_dic_list()) "
    }
   },
   "types_to_exclude": [
    "module",
    "function",
    "builtin_function_or_method",
    "instance",
    "_Feature"
   ],
   "window_display": false
  }
 },
 "nbformat": 4,
 "nbformat_minor": 2
}
